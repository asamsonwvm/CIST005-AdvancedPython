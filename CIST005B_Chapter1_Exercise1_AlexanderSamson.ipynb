{
  "nbformat": 4,
  "nbformat_minor": 0,
  "metadata": {
    "colab": {
      "provenance": [],
      "authorship_tag": "ABX9TyMZ407TX+2yc8sfc7ZMjgMc",
      "include_colab_link": true
    },
    "kernelspec": {
      "name": "python3",
      "display_name": "Python 3"
    },
    "language_info": {
      "name": "python"
    }
  },
  "cells": [
    {
      "cell_type": "markdown",
      "metadata": {
        "id": "view-in-github",
        "colab_type": "text"
      },
      "source": [
        "<a href=\"https://colab.research.google.com/github/asamsonwvm/CIST005-AdvancedPython/blob/main/CIST005B_Chapter1_Exercise1_AlexanderSamson.ipynb\" target=\"_parent\"><img src=\"https://colab.research.google.com/assets/colab-badge.svg\" alt=\"Open In Colab\"/></a>"
      ]
    },
    {
      "cell_type": "code",
      "execution_count": null,
      "metadata": {
        "id": "N85bCVzTsK8K"
      },
      "outputs": [],
      "source": [
        "\"\"\"\n",
        "\n",
        "CIST-005B Advanced Python\n",
        "Student: Alexander Samson\n",
        "Program to prompt the user for hours and rate per hour to compute gross pay.\n",
        "Pay computation to give the employee 1.5 times the hourly rate for hours worked above 40 hours.\n",
        "\n",
        "\"\"\"\n",
        "\n",
        "hours = int(input(\"Enter Hours: \"))\n",
        "rate = int(input(\"Enter Rate: \"))\n",
        "overtime = 0\n",
        "if hours > 40:\n",
        "  overtime = hours - 40\n",
        "  regularHours = 40\n",
        "else:\n",
        "  regularHours = hours\n",
        "\n",
        "pay = float(regularHours * rate + overtime * 15)\n",
        "print(pay)\n",
        "\n",
        "\"\"\"\n",
        "Enter Hours: 45\n",
        "Enter Rate: 10\n",
        "475.0\n",
        "\n",
        "Enter Hours: 40\n",
        "Enter Rate: 10\n",
        "400.0\n",
        "\"\"\""
      ]
    }
  ]
}