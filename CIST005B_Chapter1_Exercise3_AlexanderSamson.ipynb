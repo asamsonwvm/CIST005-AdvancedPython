{
  "nbformat": 4,
  "nbformat_minor": 0,
  "metadata": {
    "colab": {
      "provenance": [],
      "authorship_tag": "ABX9TyO7ssaS9t4ry9sSRBvoXHtX",
      "include_colab_link": true
    },
    "kernelspec": {
      "name": "python3",
      "display_name": "Python 3"
    },
    "language_info": {
      "name": "python"
    }
  },
  "cells": [
    {
      "cell_type": "markdown",
      "metadata": {
        "id": "view-in-github",
        "colab_type": "text"
      },
      "source": [
        "<a href=\"https://colab.research.google.com/github/asamsonwvm/CIST005-AdvancedPython/blob/main/CIST005B_Chapter1_Exercise3_AlexanderSamson.ipynb\" target=\"_parent\"><img src=\"https://colab.research.google.com/assets/colab-badge.svg\" alt=\"Open In Colab\"/></a>"
      ]
    },
    {
      "cell_type": "code",
      "source": [
        "\"\"\"\n",
        "\n",
        "CIST-005B Advanced Python\n",
        "Team Name: AI\n",
        "Team Member: Alexander Samson\n",
        "\n",
        "Program to prompt the user for hours and rate per hour to compute gross pay.\n",
        "Pay computation to give the employee 1.5 times the hourly rate for hours worked above 40 hours.\n",
        "Input Validation and formatting improvements\n",
        "Refactored the code to place them into 3 separate functions: get_input, compute_pay, print_output\n",
        "\n",
        "\"\"\"\n",
        "from random import randint\n",
        "\n",
        "# Do validation\n",
        "def get_input():\n",
        "  while True:\n",
        "    try:\n",
        "      hours = int(input(\"Enter Hours: \"))\n",
        "      rate = int(input(\"Enter Rate: \"))\n",
        "      return hours, rate\n",
        "      break;\n",
        "    except ValueError:\n",
        "      print(\"Error: Please enter a numeric input.\")\n",
        "\n",
        "# Calculate Pay\n",
        "def compute_pay(hours,rate):\n",
        "  overtime = 0\n",
        "  if hours > 40:\n",
        "    overtime = hours - 40\n",
        "    regularHours = 40\n",
        "  else:\n",
        "    regularHours = hours\n",
        "  return float(regularHours * rate + overtime * 15)\n",
        "\n",
        "# Print Report\n",
        "def print_output(pay):\n",
        "  print(f\"Pay: {pay:.1f}\")\n",
        "\n",
        "def main():\n",
        "  hours, rate = get_input()\n",
        "  pay = compute_pay(hours,rate)\n",
        "  print_output(pay)\n",
        "\n",
        "if __name__ == \"__main__\":\n",
        "  main()\n",
        "\n",
        "\"\"\"\n",
        "Enter Hours: 45\n",
        "Enter Rate: 10\n",
        "Pay: 475.0\n",
        "\n",
        "Enter Hours: 20\n",
        "Enter Rate: nine\n",
        "Error: Please enter a numeric input.\n",
        "Enter Hours: forty\n",
        "Error: Please enter a numeric input.\n",
        "\n",
        "\"\"\""
      ],
      "metadata": {
        "id": "zxwxLY0eSxPM"
      },
      "execution_count": null,
      "outputs": []
    }
  ]
}