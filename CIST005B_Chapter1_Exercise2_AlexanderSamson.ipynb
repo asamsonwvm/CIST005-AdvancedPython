{
  "nbformat": 4,
  "nbformat_minor": 0,
  "metadata": {
    "colab": {
      "provenance": [],
      "authorship_tag": "ABX9TyOjvZm/UulxEGrCu/u7AuwH",
      "include_colab_link": true
    },
    "kernelspec": {
      "name": "python3",
      "display_name": "Python 3"
    },
    "language_info": {
      "name": "python"
    }
  },
  "cells": [
    {
      "cell_type": "markdown",
      "metadata": {
        "id": "view-in-github",
        "colab_type": "text"
      },
      "source": [
        "<a href=\"https://colab.research.google.com/github/asamsonwvm/CIST005-AdvancedPython/blob/main/CIST005B_Chapter1_Exercise2_AlexanderSamson.ipynb\" target=\"_parent\"><img src=\"https://colab.research.google.com/assets/colab-badge.svg\" alt=\"Open In Colab\"/></a>"
      ]
    },
    {
      "cell_type": "code",
      "execution_count": null,
      "metadata": {
        "id": "N85bCVzTsK8K"
      },
      "outputs": [],
      "source": [
        "\"\"\"\n",
        "\n",
        "CIST-005B Advanced Python\n",
        "Team Name: AI\n",
        "Team Member: Alexander Samson\n",
        "\n",
        "Program to prompt the user for hours and rate per hour to compute gross pay.\n",
        "Pay computation to give the employee 1.5 times the hourly rate for hours worked above 40 hours.\n",
        "Input Validation and formatting improvements\n",
        "\n",
        "\"\"\"\n",
        "from random import randint\n",
        "\n",
        "companyName = input(\"Enter your company name: \")\n",
        "# Do validation\n",
        "while True:\n",
        "  try:\n",
        "    hours = int(input(\"Enter Hours: \"))\n",
        "    rate = int(input(\"Enter Rate: \"))\n",
        "    break;\n",
        "  except ValueError:\n",
        "    print(\"Error: Please enter a numeric input.\")\n",
        "\n",
        "# Calculate Pay\n",
        "overtime = 0\n",
        "if hours > 40:\n",
        "    overtime = hours - 40\n",
        "    regularHours = 40\n",
        "else:\n",
        "    regularHours = hours\n",
        "\n",
        "pay = float(regularHours * rate + overtime * 15)\n",
        "\n",
        "# Generate Document number\n",
        "docNum = randint(1000,2000)\n",
        "print(\"\")\n",
        "print(\"Company:\",companyName.strip())\n",
        "print(f\"Hours: {hours:.2f}\")\n",
        "print(f\"Rate: {rate:.2f}\")\n",
        "print(\"**********************************************\")\n",
        "print(\"Your document number is: \",docNum)\n",
        "print(f\"Your Google gross pay is {pay:.2f} dollars.\")\n",
        "\n",
        "\"\"\"\n",
        "Enter your company name: Google\n",
        "Enter Hours: 45\n",
        "Enter Rate: 10\n",
        "\n",
        "Company: Google\n",
        "Hours: 45.00\n",
        "Rate: 10.00\n",
        "**********************************************\n",
        "Your document number is:  1362\n",
        "Your Google gross pay is 475.00 dollars.\n",
        "\n",
        "Enter your company name: Google\n",
        "Enter Hours: 40\n",
        "Enter Rate: 10\n",
        "\n",
        "Company: Google\n",
        "Hours: 40.00\n",
        "Rate: 10.00\n",
        "**********************************************\n",
        "Your document number is:  1499\n",
        "Your Google gross pay is 400.00 dollars.\n",
        "\n",
        "Enter your company name: Google\n",
        "Enter Hours: 20\n",
        "Enter Rate: nine\n",
        "Error: Please enter a numeric input.\n",
        "Enter Hours: forty\n",
        "Error: Please enter a numeric input.\n",
        "\n",
        "\"\"\""
      ]
    }
  ]
}