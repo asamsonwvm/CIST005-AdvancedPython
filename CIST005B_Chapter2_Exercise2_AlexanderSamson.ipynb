{
  "nbformat": 4,
  "nbformat_minor": 0,
  "metadata": {
    "colab": {
      "provenance": [],
      "authorship_tag": "ABX9TyMC2gxbwGapxqjCApEZPAaq",
      "include_colab_link": true
    },
    "kernelspec": {
      "name": "python3",
      "display_name": "Python 3"
    },
    "language_info": {
      "name": "python"
    }
  },
  "cells": [
    {
      "cell_type": "markdown",
      "metadata": {
        "id": "view-in-github",
        "colab_type": "text"
      },
      "source": [
        "<a href=\"https://colab.research.google.com/github/asamsonwvm/CIST005-AdvancedPython/blob/main/CIST005B_Chapter2_Exercise2_AlexanderSamson.ipynb\" target=\"_parent\"><img src=\"https://colab.research.google.com/assets/colab-badge.svg\" alt=\"Open In Colab\"/></a>"
      ]
    },
    {
      "cell_type": "code",
      "execution_count": null,
      "metadata": {
        "id": "_xgnmZ3aTVit"
      },
      "outputs": [],
      "source": [
        "# Name: Alexander Samson\n",
        "# Description: Stores 2017 and 2018 friends list, able to search from the list, add new friend, and show all friends."
      ]
    },
    {
      "cell_type": "code",
      "source": [
        "friends_2017 = [\"Joe\", \"Lily\"]\n",
        "friends_2018 = [\"Bob\", \"Tom\"]\n",
        "\n",
        "# Print a report of all friends\n",
        "def show_all_friends():\n",
        "    all_friends = friends_2017 + friends_2018\n",
        "    print(\"List of all your friends: \")\n",
        "    print(\", \".join(all_friends))\n",
        "    print(\"----------------------------------------------------------------\")\n",
        "\n",
        "# Search Friend from the list\n",
        "def find_friend(name):\n",
        "    if name in friends_2017:\n",
        "        print(\"You found friend in 2017.\")\n",
        "    elif name in friends_2018:\n",
        "        print(\"You found friend in 2018.\")\n",
        "    else:\n",
        "        print(\"This name is not in your friends list.\")\n",
        "    print(\"----------------------------------------------------------------\")\n",
        "\n",
        "# Add New Friend\n",
        "def add_friend(name, year):\n",
        "    if year == '2017':\n",
        "        friends_2017.append(name)\n",
        "    elif year == '2018':\n",
        "        friends_2018.append(name)\n",
        "    else:\n",
        "        print(\"Year not found.\")\n",
        "    print(\"----------------------------------------------------------------\")\n",
        "\n",
        "# main\n",
        "def main():\n",
        "    show_all_friends()\n",
        "\n",
        "    findFriend = input(\"Enter name of a friend: \")\n",
        "    find_friend(findFriend)\n",
        "\n",
        "    newFriendName = input(\"Enter new Friend's name: \")\n",
        "    newFriendYear = input(\"Enter the year you first met your new friend (2017 or 2018): \")\n",
        "    add_friend(newFriendName, newFriendYear)\n",
        "\n",
        "    show_all_friends()\n",
        "\n",
        "if __name__ == \"__main__\":\n",
        "    main()"
      ],
      "metadata": {
        "id": "XjKSBfEOTmu4"
      },
      "execution_count": null,
      "outputs": []
    },
    {
      "cell_type": "code",
      "source": [
        "\"\"\"\n",
        "Example 1: Add Friend to 2017\n",
        "List of all your friends:\n",
        "Joe, Lily, Bob, Tom\n",
        "----------------------------------------------------------------\n",
        "Enter name of a friend: Tom\n",
        "You found friend in 2018.\n",
        "----------------------------------------------------------------\n",
        "Enter new Friend's name: Roy\n",
        "Enter the year you first met your new friend (2017 or 2018): 2017\n",
        "----------------------------------------------------------------\n",
        "List of all your friends:\n",
        "Joe, Lily, Roy, Bob, Tom\n",
        "----------------------------------------------------------------\n",
        "\n",
        "Example 2: Add Friend to 2018\n",
        "List of all your friends:\n",
        "Joe, Lily, Bob, Tom\n",
        "----------------------------------------------------------------\n",
        "Enter name of a friend: Joe\n",
        "You found friend in 2017.\n",
        "----------------------------------------------------------------\n",
        "Enter new Friend's name: Alex\n",
        "Enter the year you first met your new friend (2017 or 2018): 2018\n",
        "----------------------------------------------------------------\n",
        "List of all your friends:\n",
        "Joe, Lily, Bob, Tom, Alex\n",
        "----------------------------------------------------------------\n",
        "\n",
        "Example 3: Friend not in friend list and year not found when entering new friend\n",
        "List of all your friends:\n",
        "Joe, Lily, Bob, Tom\n",
        "----------------------------------------------------------------\n",
        "Enter name of a friend: Alex\n",
        "This name is not in your friends list.\n",
        "----------------------------------------------------------------\n",
        "Enter new Friend's name: Al\n",
        "Enter the year you first met your new friend (2017 or 2018): 2016\n",
        "Year not found.\n",
        "----------------------------------------------------------------\n",
        "List of all your friends:\n",
        "Joe, Lily, Bob, Tom\n",
        "----------------------------------------------------------------\n",
        "\"\"\""
      ],
      "metadata": {
        "id": "ZX1YxLJMaPhJ"
      },
      "execution_count": null,
      "outputs": []
    }
  ]
}