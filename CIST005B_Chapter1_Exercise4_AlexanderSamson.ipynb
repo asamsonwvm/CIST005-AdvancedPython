{
  "nbformat": 4,
  "nbformat_minor": 0,
  "metadata": {
    "colab": {
      "provenance": [],
      "authorship_tag": "ABX9TyOXBYM3Q1S/2v4kxseb2XcQ",
      "include_colab_link": true
    },
    "kernelspec": {
      "name": "python3",
      "display_name": "Python 3"
    },
    "language_info": {
      "name": "python"
    }
  },
  "cells": [
    {
      "cell_type": "markdown",
      "metadata": {
        "id": "view-in-github",
        "colab_type": "text"
      },
      "source": [
        "<a href=\"https://colab.research.google.com/github/asamsonwvm/CIST005-AdvancedPython/blob/main/CIST005B_Chapter1_Exercise4_AlexanderSamson.ipynb\" target=\"_parent\"><img src=\"https://colab.research.google.com/assets/colab-badge.svg\" alt=\"Open In Colab\"/></a>"
      ]
    },
    {
      "cell_type": "code",
      "source": [
        "# Name: Alexander Samson\n",
        "# Description: This program validates an email address, extracts the domain,\n",
        "# and prints it out."
      ],
      "metadata": {
        "id": "rjODbpPK_iA-"
      },
      "execution_count": null,
      "outputs": []
    },
    {
      "cell_type": "code",
      "source": [
        "while True:\n",
        "    # Step 1: Ask the user for an email address\n",
        "    emailAddress = input(\"Enter an email address: \")\n",
        "    # Step 2: Validate input\n",
        "    #(if \"@\" in email and \".\" in email)\n",
        "    if \"@\" in emailAddress and \".\" in emailAddress:\n",
        "        break;\n",
        "    else:\n",
        "      print(\"Error: Please enter a valid email address.\")\n",
        "\n",
        "# Step 3: Extract the domain\n",
        "# Hint: split at '@' and then split again at '.'\n",
        "parseEmailAddress = emailAddress.split('@',1)\n",
        "domainName = parseEmailAddress[1].split('.',1)\n",
        "\n",
        "# Step 4: Print the domain name\n",
        "print(\"Output:\",domainName[0])"
      ],
      "metadata": {
        "id": "WmWugUS__oh4"
      },
      "execution_count": null,
      "outputs": []
    },
    {
      "cell_type": "code",
      "source": [
        "\"\"\"\n",
        "Enter an email address: joe@yahoo.com\n",
        "Output: yahoo\n",
        "\n",
        "Enter an email address: sally@gmail.com\n",
        "Output: gmail\n",
        "\n",
        "Enter an email address: joe\n",
        "Error: Please enter a valid email address.\n",
        "Enter an email address: joe@\n",
        "Error: Please enter a valid email address.\n",
        "\"\"\""
      ],
      "metadata": {
        "id": "zmL63Spc_0zN"
      },
      "execution_count": null,
      "outputs": []
    }
  ]
}